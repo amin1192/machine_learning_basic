{
  "nbformat": 4,
  "nbformat_minor": 0,
  "metadata": {
    "language_info": {
      "codemirror_mode": {
        "name": "ipython",
        "version": 3
      },
      "file_extension": ".py",
      "mimetype": "text/x-python",
      "name": "python",
      "nbconvert_exporter": "python",
      "pygments_lexer": "ipython3",
      "version": "3.7.4-final"
    },
    "orig_nbformat": 2,
    "kernelspec": {
      "name": "python37464bitbaseconda23e937e95969445babd8b9c091f71447",
      "display_name": "Python 3.7.4 64-bit ('base': conda)"
    },
    "colab": {
      "name": "numpy_tutorial_NLP.ipynb",
      "provenance": [],
      "include_colab_link": true
    }
  },
  "cells": [
    {
      "cell_type": "markdown",
      "metadata": {
        "id": "view-in-github",
        "colab_type": "text"
      },
      "source": [
        "<a href=\"https://colab.research.google.com/github/btlgs2000/machine_learning_basic/blob/master/numpy_tutorial_NLP.ipynb\" target=\"_parent\"><img src=\"https://colab.research.google.com/assets/colab-badge.svg\" alt=\"Open In Colab\"/></a>"
      ]
    },
    {
      "cell_type": "markdown",
      "metadata": {
        "id": "VTnaSzeE7gAU"
      },
      "source": [
        "# Tutorial Numpy"
      ]
    },
    {
      "cell_type": "code",
      "metadata": {
        "id": "Q2EtrvOo7gAc"
      },
      "source": [
        "import numpy as np"
      ],
      "execution_count": null,
      "outputs": []
    },
    {
      "cell_type": "markdown",
      "metadata": {
        "id": "2I0atCAk7gAt"
      },
      "source": [
        "## Creazione da una lista"
      ]
    },
    {
      "cell_type": "code",
      "metadata": {
        "id": "HCpo0wWA7gAz",
        "outputId": "78f9ee4f-df79-4c66-c4e1-1fb2d8dc7f0f",
        "colab": {
          "base_uri": "https://localhost:8080/",
          "height": 72
        }
      },
      "source": [
        "a = np.array([[1,2,3,4,5,6], [7,8,9,10,11,12], [13,14,15,16,17,18]])\n",
        "print(a)"
      ],
      "execution_count": null,
      "outputs": [
        {
          "output_type": "stream",
          "text": [
            "[[ 1  2  3  4  5  6]\n",
            " [ 7  8  9 10 11 12]\n",
            " [13 14 15 16 17 18]]\n"
          ],
          "name": "stdout"
        }
      ]
    },
    {
      "cell_type": "code",
      "metadata": {
        "id": "4d3H7ewB7gBN"
      },
      "source": [
        "rows, cols = a.shape"
      ],
      "execution_count": null,
      "outputs": []
    },
    {
      "cell_type": "code",
      "metadata": {
        "id": "oR3DACPc8lGL",
        "outputId": "44f457f5-7f0d-468c-cc28-7649a03466bc",
        "colab": {
          "base_uri": "https://localhost:8080/",
          "height": 35
        }
      },
      "source": [
        "cols"
      ],
      "execution_count": null,
      "outputs": [
        {
          "output_type": "execute_result",
          "data": {
            "text/plain": [
              "6"
            ]
          },
          "metadata": {
            "tags": []
          },
          "execution_count": 21
        }
      ]
    },
    {
      "cell_type": "code",
      "metadata": {
        "id": "xXkjJt0h7gBW",
        "outputId": "627d128d-b6e9-4a07-9413-7cc885c2120f",
        "colab": {
          "base_uri": "https://localhost:8080/",
          "height": 35
        }
      },
      "source": [
        "a.dtype"
      ],
      "execution_count": null,
      "outputs": [
        {
          "output_type": "execute_result",
          "data": {
            "text/plain": [
              "dtype('int64')"
            ]
          },
          "metadata": {
            "tags": []
          },
          "execution_count": 22
        }
      ]
    },
    {
      "cell_type": "code",
      "metadata": {
        "id": "EPKUC6xK7gBx",
        "outputId": "fd3ed627-623d-46a5-b8a6-08d5ed9154a2",
        "colab": {
          "base_uri": "https://localhost:8080/",
          "height": 35
        }
      },
      "source": [
        "# numero di elementi totali\n",
        "a.size"
      ],
      "execution_count": null,
      "outputs": [
        {
          "output_type": "execute_result",
          "data": {
            "text/plain": [
              "18"
            ]
          },
          "metadata": {
            "tags": []
          },
          "execution_count": 23
        }
      ]
    },
    {
      "cell_type": "code",
      "metadata": {
        "id": "WGrT0wWl9YkJ",
        "outputId": "6bbfbe70-959e-4844-cd6a-b25ffe58231b",
        "colab": {
          "base_uri": "https://localhost:8080/",
          "height": 35
        }
      },
      "source": [
        "a.ndim"
      ],
      "execution_count": null,
      "outputs": [
        {
          "output_type": "execute_result",
          "data": {
            "text/plain": [
              "2"
            ]
          },
          "metadata": {
            "tags": []
          },
          "execution_count": 24
        }
      ]
    },
    {
      "cell_type": "markdown",
      "metadata": {
        "id": "OhHLE8OD7gCG"
      },
      "source": [
        "## Indexing"
      ]
    },
    {
      "cell_type": "code",
      "metadata": {
        "id": "XhgXnDmI7gCI",
        "outputId": "3973e7b3-1315-4eed-b4d8-9014273aee0e",
        "colab": {
          "base_uri": "https://localhost:8080/",
          "height": 35
        }
      },
      "source": [
        "# singolo elemento\n",
        "a[0, 2]"
      ],
      "execution_count": null,
      "outputs": [
        {
          "output_type": "execute_result",
          "data": {
            "text/plain": [
              "3"
            ]
          },
          "metadata": {
            "tags": []
          },
          "execution_count": 25
        }
      ]
    },
    {
      "cell_type": "code",
      "metadata": {
        "id": "6clV2gBU7gCT",
        "outputId": "04e660f3-7026-4a62-f313-2ba0f7842e48",
        "colab": {
          "base_uri": "https://localhost:8080/",
          "height": 54
        }
      },
      "source": [
        "a[::2, :]"
      ],
      "execution_count": null,
      "outputs": [
        {
          "output_type": "execute_result",
          "data": {
            "text/plain": [
              "array([[ 1,  2,  3,  4,  5,  6],\n",
              "       [13, 14, 15, 16, 17, 18]])"
            ]
          },
          "metadata": {
            "tags": []
          },
          "execution_count": 31
        }
      ]
    },
    {
      "cell_type": "code",
      "metadata": {
        "id": "Qqk7z4qE7gCb"
      },
      "source": [
        "# righe alterne\n",
        "a[::2, :]"
      ],
      "execution_count": null,
      "outputs": []
    },
    {
      "cell_type": "code",
      "metadata": {
        "id": "c8CHcTVR7gCk",
        "outputId": "4b05daa4-e3b5-41f1-e87f-3a98e65c35a8",
        "colab": {
          "base_uri": "https://localhost:8080/",
          "height": 72
        }
      },
      "source": [
        "# boolean indexing\n",
        "a > 10"
      ],
      "execution_count": null,
      "outputs": [
        {
          "output_type": "execute_result",
          "data": {
            "text/plain": [
              "array([[False, False, False, False, False, False],\n",
              "       [False, False, False, False,  True,  True],\n",
              "       [ True,  True,  True,  True,  True,  True]])"
            ]
          },
          "metadata": {
            "tags": []
          },
          "execution_count": 32
        }
      ]
    },
    {
      "cell_type": "code",
      "metadata": {
        "id": "GJ87um_s7gCs",
        "outputId": "e0bf3f5f-11ee-4406-cfe0-b352da461ef0",
        "colab": {
          "base_uri": "https://localhost:8080/",
          "height": 35
        }
      },
      "source": [
        "# Attenzione alla priorità degli operatori logici!\n",
        "a[a>10]"
      ],
      "execution_count": null,
      "outputs": [
        {
          "output_type": "execute_result",
          "data": {
            "text/plain": [
              "array([11, 12, 13, 14, 15, 16, 17, 18])"
            ]
          },
          "metadata": {
            "tags": []
          },
          "execution_count": 33
        }
      ]
    },
    {
      "cell_type": "code",
      "metadata": {
        "id": "cduX-YzG7gC5"
      },
      "source": [
        "a[a>10] = -1"
      ],
      "execution_count": null,
      "outputs": []
    },
    {
      "cell_type": "code",
      "metadata": {
        "id": "EUX2NAJD_hLP",
        "outputId": "40d498ae-ad77-40ba-92a8-c0158e4a0a3c",
        "colab": {
          "base_uri": "https://localhost:8080/",
          "height": 72
        }
      },
      "source": [
        "a"
      ],
      "execution_count": null,
      "outputs": [
        {
          "output_type": "execute_result",
          "data": {
            "text/plain": [
              "array([[ 1,  2,  3,  4,  5,  6],\n",
              "       [ 7,  8,  9, 10, -1, -1],\n",
              "       [-1, -1, -1, -1, -1, -1]])"
            ]
          },
          "metadata": {
            "tags": []
          },
          "execution_count": 35
        }
      ]
    },
    {
      "cell_type": "markdown",
      "metadata": {
        "id": "kBbHgelZ7gDD"
      },
      "source": [
        "## Funzioni di creazione"
      ]
    },
    {
      "cell_type": "code",
      "metadata": {
        "id": "g-CpgNDg7gDF",
        "outputId": "d90717c2-3724-4a1e-d647-b2007884a512",
        "colab": {
          "base_uri": "https://localhost:8080/",
          "height": 54
        }
      },
      "source": [
        "np.zeros((2, 3))"
      ],
      "execution_count": null,
      "outputs": [
        {
          "output_type": "execute_result",
          "data": {
            "text/plain": [
              "array([[0., 0., 0.],\n",
              "       [0., 0., 0.]])"
            ]
          },
          "metadata": {
            "tags": []
          },
          "execution_count": 36
        }
      ]
    },
    {
      "cell_type": "code",
      "metadata": {
        "id": "fnBtbqPD7gDP",
        "outputId": "275861be-cfcd-47fe-e3ac-618c192830e6",
        "colab": {
          "base_uri": "https://localhost:8080/",
          "height": 35
        }
      },
      "source": [
        "np.arange(2, 3, 0.1)"
      ],
      "execution_count": null,
      "outputs": [
        {
          "output_type": "execute_result",
          "data": {
            "text/plain": [
              "array([2. , 2.1, 2.2, 2.3, 2.4, 2.5, 2.6, 2.7, 2.8, 2.9])"
            ]
          },
          "metadata": {
            "tags": []
          },
          "execution_count": 37
        }
      ]
    },
    {
      "cell_type": "code",
      "metadata": {
        "id": "Tjf8i_HU7gDf"
      },
      "source": [
        "np.linspace(1., 4., 6)"
      ],
      "execution_count": null,
      "outputs": []
    },
    {
      "cell_type": "code",
      "metadata": {
        "id": "H6eK6roF7gDp",
        "outputId": "22ab3dee-9bf2-48e1-d707-54e3e0164a3b",
        "colab": {
          "base_uri": "https://localhost:8080/",
          "height": 72
        }
      },
      "source": [
        "np.random.random((3, 3))"
      ],
      "execution_count": null,
      "outputs": [
        {
          "output_type": "execute_result",
          "data": {
            "text/plain": [
              "array([[0.5713664 , 0.95231981, 0.67799247],\n",
              "       [0.11607323, 0.31741469, 0.56529746],\n",
              "       [0.07095686, 0.71289906, 0.7068032 ]])"
            ]
          },
          "metadata": {
            "tags": []
          },
          "execution_count": 38
        }
      ]
    },
    {
      "cell_type": "code",
      "metadata": {
        "id": "PhyQlBoJ7gDy",
        "outputId": "298859c5-419a-460e-e2f2-b8015c7522bc",
        "colab": {
          "base_uri": "https://localhost:8080/",
          "height": 72
        }
      },
      "source": [
        "np.random.normal(loc=10, scale=3, size=(3, 2))"
      ],
      "execution_count": null,
      "outputs": [
        {
          "output_type": "execute_result",
          "data": {
            "text/plain": [
              "array([[ 8.98576718,  8.38832606],\n",
              "       [ 8.80426723, 12.35455862],\n",
              "       [ 7.81017199,  8.87291163]])"
            ]
          },
          "metadata": {
            "tags": []
          },
          "execution_count": 39
        }
      ]
    },
    {
      "cell_type": "markdown",
      "metadata": {
        "id": "VAgmTWHy7gD4"
      },
      "source": [
        "## funzioni elementwise"
      ]
    },
    {
      "cell_type": "code",
      "metadata": {
        "id": "HfQKjgI_7gD6"
      },
      "source": [
        "a = np.array([[1, 2], [3, 4]])\n",
        "\n",
        "b = np.array([[10, 10], [10, 10]])"
      ],
      "execution_count": null,
      "outputs": []
    },
    {
      "cell_type": "code",
      "metadata": {
        "id": "MmxHjgyIAu7c",
        "outputId": "ce8f3998-9bd0-4157-f66b-ba2788570106",
        "colab": {
          "base_uri": "https://localhost:8080/",
          "height": 54
        }
      },
      "source": [
        "a @ b"
      ],
      "execution_count": null,
      "outputs": [
        {
          "output_type": "execute_result",
          "data": {
            "text/plain": [
              "array([[30, 30],\n",
              "       [70, 70]])"
            ]
          },
          "metadata": {
            "tags": []
          },
          "execution_count": 45
        }
      ]
    },
    {
      "cell_type": "markdown",
      "metadata": {
        "id": "-mHDGLlG7gEB"
      },
      "source": [
        "## funzioni matriciali"
      ]
    },
    {
      "cell_type": "code",
      "metadata": {
        "id": "MWrbYWQz7gEC"
      },
      "source": [
        "A = np.array([[1, 1], [2,3]])\n",
        "B = np.array([[1, 4], [-2,3]])"
      ],
      "execution_count": null,
      "outputs": []
    },
    {
      "cell_type": "code",
      "metadata": {
        "id": "TwQEPcQ07gEJ"
      },
      "source": [
        "# in caso di array con più di due dimensioni vengono trattati come array di matrici\n",
        "np.matmul(A, B)"
      ],
      "execution_count": null,
      "outputs": []
    },
    {
      "cell_type": "code",
      "metadata": {
        "id": "KE3FOqQ17gER"
      },
      "source": [
        "A @ B"
      ],
      "execution_count": null,
      "outputs": []
    },
    {
      "cell_type": "code",
      "metadata": {
        "id": "VBRAFbFI7gEc"
      },
      "source": [
        "from numpy.linalg import inv\n",
        "\n",
        "inv(A) @ A"
      ],
      "execution_count": null,
      "outputs": []
    },
    {
      "cell_type": "markdown",
      "metadata": {
        "id": "_yhEvW5c7gEl"
      },
      "source": [
        "## funzioni di riduzione"
      ]
    },
    {
      "cell_type": "code",
      "metadata": {
        "id": "eyuYGcGp7gEl"
      },
      "source": [
        "# 2 x 3\n",
        "\n",
        "a = [\n",
        "     [1, 2 ,3 ],\n",
        "     [4, 5, 6]\n",
        "]"
      ],
      "execution_count": null,
      "outputs": []
    },
    {
      "cell_type": "code",
      "metadata": {
        "id": "fiXDgcO_BXtZ",
        "outputId": "20f9222e-6b56-43cb-e8c8-6d5043d68e29",
        "colab": {
          "base_uri": "https://localhost:8080/",
          "height": 35
        }
      },
      "source": [
        "arr = np.max(a, axis=0); arr"
      ],
      "execution_count": null,
      "outputs": [
        {
          "output_type": "execute_result",
          "data": {
            "text/plain": [
              "array([4, 5, 6])"
            ]
          },
          "metadata": {
            "tags": []
          },
          "execution_count": 52
        }
      ]
    },
    {
      "cell_type": "code",
      "metadata": {
        "id": "cXwnhFiCBa6m",
        "outputId": "afbb65a4-3a12-4fae-e63c-d8c6f244fd19",
        "colab": {
          "base_uri": "https://localhost:8080/",
          "height": 35
        }
      },
      "source": [
        "np.max(a)"
      ],
      "execution_count": null,
      "outputs": [
        {
          "output_type": "execute_result",
          "data": {
            "text/plain": [
              "6"
            ]
          },
          "metadata": {
            "tags": []
          },
          "execution_count": 48
        }
      ]
    },
    {
      "cell_type": "code",
      "metadata": {
        "id": "kzMbnoyB7gEt"
      },
      "source": [
        "np.amax(A)"
      ],
      "execution_count": null,
      "outputs": []
    },
    {
      "cell_type": "code",
      "metadata": {
        "id": "86LYo4ys7gE1"
      },
      "source": [
        "np.amax(A, axis = 0)"
      ],
      "execution_count": null,
      "outputs": []
    },
    {
      "cell_type": "code",
      "metadata": {
        "id": "a1TqDZs97gE7"
      },
      "source": [
        "np.amax(A, axis = 0, keepdims=True)"
      ],
      "execution_count": null,
      "outputs": []
    },
    {
      "cell_type": "markdown",
      "metadata": {
        "id": "OfPhj1JF7gFA"
      },
      "source": [
        "## cambio di dimensioni"
      ]
    },
    {
      "cell_type": "code",
      "metadata": {
        "id": "4_Ow48-SCdwb"
      },
      "source": [
        "a = np.array(\n",
        "    [\n",
        "     [1, 2, 3],\n",
        "     [4, 5, 6]\n",
        "    ]\n",
        ")"
      ],
      "execution_count": null,
      "outputs": []
    },
    {
      "cell_type": "code",
      "metadata": {
        "id": "ZYM0zGbY7gFC",
        "outputId": "b02f43b9-b302-41c2-a9a8-c391384b0d90",
        "colab": {
          "base_uri": "https://localhost:8080/",
          "height": 35
        }
      },
      "source": [
        "# gli indici scorrono dall'ultimo al primo a[0,0], a[0,1]...a[1,0], a[1,1]\n",
        "a.ravel()"
      ],
      "execution_count": null,
      "outputs": [
        {
          "output_type": "execute_result",
          "data": {
            "text/plain": [
              "array([1, 2, 3, 4, 5, 6])"
            ]
          },
          "metadata": {
            "tags": []
          },
          "execution_count": 55
        }
      ]
    },
    {
      "cell_type": "code",
      "metadata": {
        "id": "Y0wTTm1TCong",
        "outputId": "1b19e27d-606b-44ea-d7f5-d723d37fd764",
        "colab": {
          "base_uri": "https://localhost:8080/",
          "height": 35
        }
      },
      "source": [
        "a.reshape(1, 6)"
      ],
      "execution_count": null,
      "outputs": [
        {
          "output_type": "execute_result",
          "data": {
            "text/plain": [
              "array([[1, 2, 3, 4, 5, 6]])"
            ]
          },
          "metadata": {
            "tags": []
          },
          "execution_count": 58
        }
      ]
    },
    {
      "cell_type": "code",
      "metadata": {
        "id": "wI4MT3HV7gFN"
      },
      "source": [
        "a.reshape(-1)"
      ],
      "execution_count": null,
      "outputs": []
    },
    {
      "cell_type": "code",
      "metadata": {
        "id": "m8OWd4rH7gFa"
      },
      "source": [
        "a.reshape((2, -1))"
      ],
      "execution_count": null,
      "outputs": []
    },
    {
      "cell_type": "code",
      "metadata": {
        "id": "3BM2cjLK7gFf"
      },
      "source": [
        "a = np.array([1, 2, 3]).reshape(1, -1, 1)"
      ],
      "execution_count": null,
      "outputs": []
    },
    {
      "cell_type": "code",
      "metadata": {
        "id": "hYkTwbV67gFm"
      },
      "source": [
        "a.shape"
      ],
      "execution_count": null,
      "outputs": []
    },
    {
      "cell_type": "code",
      "metadata": {
        "id": "Q7YDR0Sg7gFq"
      },
      "source": [
        "a_sq = a.squeeze()"
      ],
      "execution_count": null,
      "outputs": []
    },
    {
      "cell_type": "code",
      "metadata": {
        "id": "9I2l9JDp7gFu"
      },
      "source": [
        "a_sq.shape"
      ],
      "execution_count": null,
      "outputs": []
    },
    {
      "cell_type": "code",
      "metadata": {
        "id": "F8a6_6vq7gFx"
      },
      "source": [
        "# trasposta\n",
        "a = np.array([[1, 1], [2, 2]]); a.T"
      ],
      "execution_count": null,
      "outputs": []
    },
    {
      "cell_type": "markdown",
      "metadata": {
        "id": "CGKEPeAR7gF4"
      },
      "source": [
        "## Broadcating\n",
        "\n",
        "https://numpy.org/doc/stable/user/basics.broadcasting.html"
      ]
    },
    {
      "cell_type": "code",
      "metadata": {
        "id": "B7zL2-m5DFKa"
      },
      "source": [
        "a = np.array([[1, 2], [3, 4]])"
      ],
      "execution_count": null,
      "outputs": []
    },
    {
      "cell_type": "code",
      "metadata": {
        "id": "fJv79lxlDJu3",
        "outputId": "f7ef741f-3f24-459e-b994-b96eb6ce7e2c",
        "colab": {
          "base_uri": "https://localhost:8080/",
          "height": 54
        }
      },
      "source": [
        "a + 2"
      ],
      "execution_count": null,
      "outputs": [
        {
          "output_type": "execute_result",
          "data": {
            "text/plain": [
              "array([[3, 4],\n",
              "       [5, 6]])"
            ]
          },
          "metadata": {
            "tags": []
          },
          "execution_count": 60
        }
      ]
    },
    {
      "cell_type": "code",
      "metadata": {
        "id": "a4cecFMzDMnF",
        "outputId": "c13aef59-9688-44b0-c6d5-33f6fc7c6622",
        "colab": {
          "base_uri": "https://localhost:8080/",
          "height": 54
        }
      },
      "source": [
        "a + np.array([[10], [11]])"
      ],
      "execution_count": null,
      "outputs": [
        {
          "output_type": "execute_result",
          "data": {
            "text/plain": [
              "array([[11, 12],\n",
              "       [14, 15]])"
            ]
          },
          "metadata": {
            "tags": []
          },
          "execution_count": 62
        }
      ]
    },
    {
      "cell_type": "code",
      "metadata": {
        "id": "hQG-tK_f7gF7"
      },
      "source": [
        "fake_img = np.random.random((3, 5, 5))\n",
        "fake_img + np.array([1, 2, 3]).reshape(3, 1, 1)"
      ],
      "execution_count": null,
      "outputs": []
    },
    {
      "cell_type": "code",
      "metadata": {
        "id": "0s01XAuk7gGB"
      },
      "source": [
        "fake_img + np.array([1, 2, 3, 4, 5])"
      ],
      "execution_count": null,
      "outputs": []
    },
    {
      "cell_type": "code",
      "metadata": {
        "id": "cpPVpDvE7gGJ"
      },
      "source": [
        "fake_img + np.array([1, 2, 3, 4, 5]).reshape(1, -1, 1)"
      ],
      "execution_count": null,
      "outputs": []
    },
    {
      "cell_type": "code",
      "metadata": {
        "id": "X5IZflwW7gGO"
      },
      "source": [
        "fake_img + np.array([[1], [2], [3], [4], [5]])"
      ],
      "execution_count": null,
      "outputs": []
    },
    {
      "cell_type": "code",
      "metadata": {
        "id": "vFU7bjV1ICZX"
      },
      "source": [
        "a = np.random.rand(3, 2, 4)\n",
        "b = np.random.rand(1, 2, 4)"
      ],
      "execution_count": null,
      "outputs": []
    },
    {
      "cell_type": "code",
      "metadata": {
        "id": "onpDVomAIKWY",
        "outputId": "8d46d8f9-fc9e-4641-8206-449894d26f67",
        "colab": {
          "base_uri": "https://localhost:8080/",
          "height": 165
        }
      },
      "source": [
        "a + b"
      ],
      "execution_count": null,
      "outputs": [
        {
          "output_type": "execute_result",
          "data": {
            "text/plain": [
              "array([[[1.41931429, 1.10600507, 0.90269602, 0.6516676 ],\n",
              "        [0.17294702, 1.34778976, 1.34125808, 1.33168796]],\n",
              "\n",
              "       [[1.47661329, 1.48307551, 0.85790419, 1.39998828],\n",
              "        [0.43635284, 0.90625562, 1.17215203, 0.92629215]],\n",
              "\n",
              "       [[1.6939882 , 1.77842957, 1.20450453, 1.37658912],\n",
              "        [0.37358949, 0.90626783, 1.25017913, 1.13792859]]])"
            ]
          },
          "metadata": {
            "tags": []
          },
          "execution_count": 68
        }
      ]
    },
    {
      "cell_type": "markdown",
      "metadata": {
        "id": "QP0xm3uC7gGS"
      },
      "source": [
        "## Unione di array"
      ]
    },
    {
      "cell_type": "code",
      "metadata": {
        "id": "jT2Sq-XZ7gGT"
      },
      "source": [
        "# unisce array con la stessa forma creando una nuova dimensione\n",
        "\n",
        "a = np.array([[1, 2], [3, 4]])\n",
        "b = np.array([[11, 12], [13, 14]])"
      ],
      "execution_count": null,
      "outputs": []
    },
    {
      "cell_type": "code",
      "metadata": {
        "id": "lCG34XoeIxCO",
        "outputId": "c4317f92-e8d5-406e-afb3-d59cbcbe78b4",
        "colab": {
          "base_uri": "https://localhost:8080/",
          "height": 109
        }
      },
      "source": [
        "np.stack((a, b))"
      ],
      "execution_count": null,
      "outputs": [
        {
          "output_type": "execute_result",
          "data": {
            "text/plain": [
              "array([[[ 1,  2],\n",
              "        [ 3,  4]],\n",
              "\n",
              "       [[11, 12],\n",
              "        [13, 14]]])"
            ]
          },
          "metadata": {
            "tags": []
          },
          "execution_count": 76
        }
      ]
    },
    {
      "cell_type": "code",
      "metadata": {
        "id": "FPuJL6Z07gGZ"
      },
      "source": [
        "np.concatenate((a, b), axis=0)"
      ],
      "execution_count": null,
      "outputs": []
    },
    {
      "cell_type": "code",
      "metadata": {
        "id": "sNqsHS5V7gGd",
        "outputId": "5799c9a1-3c82-4552-91e0-1345fef83153",
        "colab": {
          "base_uri": "https://localhost:8080/",
          "height": 35
        }
      },
      "source": [
        "np.vstack((a, b)).shape"
      ],
      "execution_count": null,
      "outputs": [
        {
          "output_type": "execute_result",
          "data": {
            "text/plain": [
              "(4, 2)"
            ]
          },
          "metadata": {
            "tags": []
          },
          "execution_count": 81
        }
      ]
    },
    {
      "cell_type": "code",
      "metadata": {
        "id": "lrqWRa6cKJ8l"
      },
      "source": [
        "a = np.random.rand(4, 5)"
      ],
      "execution_count": null,
      "outputs": []
    },
    {
      "cell_type": "code",
      "metadata": {
        "id": "uRFVWSIhKU0a"
      },
      "source": [
        "def matrix_power(M, n):\n",
        "    ''' restituisce M**n\n",
        "    la moltiplicazione matriciale è scritta in Python\n",
        "    \n",
        "    args\n",
        "    ----\n",
        "    M (list): dimensioni n x n [[1, 2], [3, 4]]\n",
        "    n (int): esponente\n",
        "    '''\n",
        "    def matrix_multiply(A, B):\n",
        "        m = len(A) # mumero di righe di A\n",
        "        n = len(B[0]) # numero di colonne di B\n",
        "        l = len(A[0]) # numero di colonne di A == numero di righe di B\n",
        "        res = [[0]*n for _ in range(m)]\n",
        "        for row in range(m):\n",
        "            for col in range(n):\n",
        "                acc = 0\n",
        "                for i in range(l):\n",
        "                    acc += A[row][i] * B[i][col]\n",
        "                res[row][col]= acc\n",
        "\n",
        "        return res\n",
        "\n",
        "    power = M\n",
        "    for _ in range(n-1):\n",
        "        power = matrix_multiply(power, M)\n",
        "    return power\n",
        "\n",
        "def matrix_power_numpy(M, n):\n",
        "    ''' come sopra ma utilizzando numpy\n",
        "\n",
        "    args\n",
        "    ----\n",
        "    M (np.array): dimensioni n x n\n",
        "    n (int): esponente\n",
        "    '''\n",
        "    power = M\n",
        "    for _ in range(n-1):\n",
        "        power = power@M\n",
        "    return power"
      ],
      "execution_count": null,
      "outputs": []
    },
    {
      "cell_type": "code",
      "metadata": {
        "id": "aqOOzc14b6f0"
      },
      "source": [
        "M = np.array([[2, 3], [1, 1]])"
      ],
      "execution_count": null,
      "outputs": []
    },
    {
      "cell_type": "code",
      "metadata": {
        "id": "vSto-eDOcAe0",
        "outputId": "c607ec7d-f83c-4691-df42-e7dcf266cb5b",
        "colab": {
          "base_uri": "https://localhost:8080/",
          "height": 35
        }
      },
      "source": [
        "matrix_power(M, 10)"
      ],
      "execution_count": null,
      "outputs": [
        {
          "output_type": "execute_result",
          "data": {
            "text/plain": [
              "[[98644, 128511], [42837, 55807]]"
            ]
          },
          "metadata": {
            "tags": []
          },
          "execution_count": 105
        }
      ]
    },
    {
      "cell_type": "code",
      "metadata": {
        "id": "01_ctKAlcDhv",
        "outputId": "49b1fbd9-c1b1-4993-f295-f21d7bb4a72e",
        "colab": {
          "base_uri": "https://localhost:8080/",
          "height": 257
        }
      },
      "source": [
        "matrix_power_numpy(M, 2)"
      ],
      "execution_count": null,
      "outputs": [
        {
          "output_type": "execute_result",
          "data": {
            "text/plain": [
              "array([[253.6337322 , 247.79477625, 255.91669657, ..., 247.22053629,\n",
              "        243.4791392 , 252.46142148],\n",
              "       [251.81865834, 251.53224739, 251.40667711, ..., 253.98696279,\n",
              "        256.98336577, 253.76670449],\n",
              "       [251.81867358, 244.79413043, 257.03587695, ..., 252.92877327,\n",
              "        247.83511462, 249.53888704],\n",
              "       ...,\n",
              "       [257.0346591 , 244.3129661 , 259.44034988, ..., 258.15410903,\n",
              "        253.75463308, 253.75687561],\n",
              "       [264.39320085, 254.74397319, 264.25641951, ..., 262.35795999,\n",
              "        260.53569844, 262.61882653],\n",
              "       [246.20629677, 240.25702424, 254.2822506 , ..., 249.74039318,\n",
              "        247.99696139, 247.86991096]])"
            ]
          },
          "metadata": {
            "tags": []
          },
          "execution_count": 113
        }
      ]
    },
    {
      "cell_type": "code",
      "metadata": {
        "id": "WO_spv7Yi5i5",
        "outputId": "0e69d998-9d7a-49da-e25a-ca219e0b93c6",
        "colab": {
          "base_uri": "https://localhost:8080/",
          "height": 400
        }
      },
      "source": [
        "import time\n",
        "\n",
        "M = np.random.rand(1_000, 1_000)\n",
        "\n",
        "start = time.time()\n",
        "matrix_power(M, 2)\n",
        "stop = time.time()\n",
        "\n",
        "print(f'tempo impiegato = {stop-start}')"
      ],
      "execution_count": null,
      "outputs": [
        {
          "output_type": "error",
          "ename": "KeyboardInterrupt",
          "evalue": "ignored",
          "traceback": [
            "\u001b[0;31m---------------------------------------------------------------------------\u001b[0m",
            "\u001b[0;31mKeyboardInterrupt\u001b[0m                         Traceback (most recent call last)",
            "\u001b[0;32m<ipython-input-112-5a59d9c1fec7>\u001b[0m in \u001b[0;36m<module>\u001b[0;34m()\u001b[0m\n\u001b[1;32m      4\u001b[0m \u001b[0;34m\u001b[0m\u001b[0m\n\u001b[1;32m      5\u001b[0m \u001b[0mstart\u001b[0m \u001b[0;34m=\u001b[0m \u001b[0mtime\u001b[0m\u001b[0;34m.\u001b[0m\u001b[0mtime\u001b[0m\u001b[0;34m(\u001b[0m\u001b[0;34m)\u001b[0m\u001b[0;34m\u001b[0m\u001b[0;34m\u001b[0m\u001b[0m\n\u001b[0;32m----> 6\u001b[0;31m \u001b[0mmatrix_power\u001b[0m\u001b[0;34m(\u001b[0m\u001b[0mM\u001b[0m\u001b[0;34m,\u001b[0m \u001b[0;36m2\u001b[0m\u001b[0;34m)\u001b[0m\u001b[0;34m\u001b[0m\u001b[0;34m\u001b[0m\u001b[0m\n\u001b[0m\u001b[1;32m      7\u001b[0m \u001b[0mstop\u001b[0m \u001b[0;34m=\u001b[0m \u001b[0mtime\u001b[0m\u001b[0;34m.\u001b[0m\u001b[0mtime\u001b[0m\u001b[0;34m(\u001b[0m\u001b[0;34m)\u001b[0m\u001b[0;34m\u001b[0m\u001b[0;34m\u001b[0m\u001b[0m\n\u001b[1;32m      8\u001b[0m \u001b[0;34m\u001b[0m\u001b[0m\n",
            "\u001b[0;32m<ipython-input-103-75a372a0bb2e>\u001b[0m in \u001b[0;36mmatrix_power\u001b[0;34m(M, n)\u001b[0m\n\u001b[1;32m     24\u001b[0m     \u001b[0mpower\u001b[0m \u001b[0;34m=\u001b[0m \u001b[0mM\u001b[0m\u001b[0;34m\u001b[0m\u001b[0;34m\u001b[0m\u001b[0m\n\u001b[1;32m     25\u001b[0m     \u001b[0;32mfor\u001b[0m \u001b[0m_\u001b[0m \u001b[0;32min\u001b[0m \u001b[0mrange\u001b[0m\u001b[0;34m(\u001b[0m\u001b[0mn\u001b[0m\u001b[0;34m-\u001b[0m\u001b[0;36m1\u001b[0m\u001b[0;34m)\u001b[0m\u001b[0;34m:\u001b[0m\u001b[0;34m\u001b[0m\u001b[0;34m\u001b[0m\u001b[0m\n\u001b[0;32m---> 26\u001b[0;31m         \u001b[0mpower\u001b[0m \u001b[0;34m=\u001b[0m \u001b[0mmatrix_multiply\u001b[0m\u001b[0;34m(\u001b[0m\u001b[0mpower\u001b[0m\u001b[0;34m,\u001b[0m \u001b[0mM\u001b[0m\u001b[0;34m)\u001b[0m\u001b[0;34m\u001b[0m\u001b[0;34m\u001b[0m\u001b[0m\n\u001b[0m\u001b[1;32m     27\u001b[0m     \u001b[0;32mreturn\u001b[0m \u001b[0mpower\u001b[0m\u001b[0;34m\u001b[0m\u001b[0;34m\u001b[0m\u001b[0m\n\u001b[1;32m     28\u001b[0m \u001b[0;34m\u001b[0m\u001b[0m\n",
            "\u001b[0;32m<ipython-input-103-75a372a0bb2e>\u001b[0m in \u001b[0;36mmatrix_multiply\u001b[0;34m(A, B)\u001b[0m\n\u001b[1;32m     17\u001b[0m                 \u001b[0macc\u001b[0m \u001b[0;34m=\u001b[0m \u001b[0;36m0\u001b[0m\u001b[0;34m\u001b[0m\u001b[0;34m\u001b[0m\u001b[0m\n\u001b[1;32m     18\u001b[0m                 \u001b[0;32mfor\u001b[0m \u001b[0mi\u001b[0m \u001b[0;32min\u001b[0m \u001b[0mrange\u001b[0m\u001b[0;34m(\u001b[0m\u001b[0ml\u001b[0m\u001b[0;34m)\u001b[0m\u001b[0;34m:\u001b[0m\u001b[0;34m\u001b[0m\u001b[0;34m\u001b[0m\u001b[0m\n\u001b[0;32m---> 19\u001b[0;31m                     \u001b[0macc\u001b[0m \u001b[0;34m+=\u001b[0m \u001b[0mA\u001b[0m\u001b[0;34m[\u001b[0m\u001b[0mrow\u001b[0m\u001b[0;34m]\u001b[0m\u001b[0;34m[\u001b[0m\u001b[0mi\u001b[0m\u001b[0;34m]\u001b[0m \u001b[0;34m*\u001b[0m \u001b[0mB\u001b[0m\u001b[0;34m[\u001b[0m\u001b[0mi\u001b[0m\u001b[0;34m]\u001b[0m\u001b[0;34m[\u001b[0m\u001b[0mcol\u001b[0m\u001b[0;34m]\u001b[0m\u001b[0;34m\u001b[0m\u001b[0;34m\u001b[0m\u001b[0m\n\u001b[0m\u001b[1;32m     20\u001b[0m                 \u001b[0mres\u001b[0m\u001b[0;34m[\u001b[0m\u001b[0mrow\u001b[0m\u001b[0;34m]\u001b[0m\u001b[0;34m[\u001b[0m\u001b[0mcol\u001b[0m\u001b[0;34m]\u001b[0m\u001b[0;34m=\u001b[0m \u001b[0macc\u001b[0m\u001b[0;34m\u001b[0m\u001b[0;34m\u001b[0m\u001b[0m\n\u001b[1;32m     21\u001b[0m \u001b[0;34m\u001b[0m\u001b[0m\n",
            "\u001b[0;31mKeyboardInterrupt\u001b[0m: "
          ]
        }
      ]
    },
    {
      "cell_type": "code",
      "metadata": {
        "id": "fDRENnzrk5U6"
      },
      "source": [
        ""
      ],
      "execution_count": null,
      "outputs": []
    },
    {
      "cell_type": "code",
      "metadata": {
        "id": "RgbQHT7lk53b",
        "outputId": "c98588d3-08b3-44ff-f2c2-c5b147ad9144",
        "colab": {
          "base_uri": "https://localhost:8080/",
          "height": 35
        }
      },
      "source": [
        "import time\n",
        "\n",
        "M = np.random.rand(1_000, 1_000)\n",
        "\n",
        "start = time.time()\n",
        "matrix_power_numpy(M, 2)\n",
        "stop = time.time()\n",
        "\n",
        "print(f'tempo impiegato = {stop-start}')"
      ],
      "execution_count": null,
      "outputs": [
        {
          "output_type": "stream",
          "text": [
            "tempo impiegato = 0.06707429885864258\n"
          ],
          "name": "stdout"
        }
      ]
    },
    {
      "cell_type": "markdown",
      "metadata": {
        "id": "ma1ryYO47gGf"
      },
      "source": [
        "## Esercizi"
      ]
    },
    {
      "cell_type": "markdown",
      "metadata": {
        "id": "8wxhBUs57gGg"
      },
      "source": [
        "### 1"
      ]
    },
    {
      "cell_type": "code",
      "metadata": {
        "id": "Oo9i_TeH7gGg"
      },
      "source": [
        "a = np.random.random((5, 5)); a"
      ],
      "execution_count": null,
      "outputs": []
    },
    {
      "cell_type": "code",
      "metadata": {
        "id": "oUinMrPV7gGk"
      },
      "source": [
        "rows, cols = a.shape\n",
        "for i in range(rows):\n",
        "    for j in range(cols):\n",
        "        a[i][j] = np.sin(a[i][j])*2 + 4"
      ],
      "execution_count": null,
      "outputs": []
    },
    {
      "cell_type": "markdown",
      "metadata": {
        "id": "PuIISdGb7gGp"
      },
      "source": [
        ""
      ]
    },
    {
      "cell_type": "markdown",
      "metadata": {
        "id": "Zq6AKfV07gGq"
      },
      "source": [
        "### 2"
      ]
    },
    {
      "cell_type": "code",
      "metadata": {
        "id": "-uy-JtS87gGr"
      },
      "source": [
        "a = np.random.random((5, 5)); a"
      ],
      "execution_count": null,
      "outputs": []
    },
    {
      "cell_type": "code",
      "metadata": {
        "id": "7d2QG9-a7gHO"
      },
      "source": [
        "rows, cols = a.shape\n",
        "for i in range(rows):\n",
        "    for j in range(cols):\n",
        "        if j == 3:\n",
        "            a[i][j] += 10"
      ],
      "execution_count": null,
      "outputs": []
    },
    {
      "cell_type": "markdown",
      "metadata": {
        "id": "cKByk2na7gHS"
      },
      "source": [
        "### 3"
      ]
    },
    {
      "cell_type": "code",
      "metadata": {
        "id": "Fw8WNsYt7gHT"
      },
      "source": [
        "a = np.random.random((5, 5)); a"
      ],
      "execution_count": null,
      "outputs": []
    },
    {
      "cell_type": "code",
      "metadata": {
        "id": "J7-bjAoS7gHc"
      },
      "source": [
        "for i in range(rows):\n",
        "    for j in range(cols):\n",
        "            a[i][j] += j"
      ],
      "execution_count": null,
      "outputs": []
    },
    {
      "cell_type": "markdown",
      "metadata": {
        "id": "qjbUjp-Q7gHf"
      },
      "source": [
        "### 4"
      ]
    },
    {
      "cell_type": "code",
      "metadata": {
        "id": "zOxK5Rup7gHh"
      },
      "source": [
        "a = np.random.random((5, 5)); a"
      ],
      "execution_count": null,
      "outputs": []
    },
    {
      "cell_type": "code",
      "metadata": {
        "id": "zHtTjul-7gHm"
      },
      "source": [
        "for i in range(rows):\n",
        "    for j in range(cols):\n",
        "            a[i][j] += i + j**2"
      ],
      "execution_count": null,
      "outputs": []
    },
    {
      "cell_type": "markdown",
      "metadata": {
        "id": "Nv0AS2Nl7gHp"
      },
      "source": [
        "### 5"
      ]
    },
    {
      "cell_type": "code",
      "metadata": {
        "id": "ng2XplJ37gHr"
      },
      "source": [
        "a = np.stack([np.eye(2)*i for i in range(4)]); a"
      ],
      "execution_count": null,
      "outputs": []
    },
    {
      "cell_type": "code",
      "metadata": {
        "id": "izhs8yXx7gHw"
      },
      "source": [
        "b = np.array([[1, 2], [3, 4]])"
      ],
      "execution_count": null,
      "outputs": []
    },
    {
      "cell_type": "code",
      "metadata": {
        "tags": [],
        "id": "66vGz9AP7gH4"
      },
      "source": [
        "for i in range(a.shape[0]):\n",
        "    a[i] = a[i]@b"
      ],
      "execution_count": null,
      "outputs": []
    },
    {
      "cell_type": "markdown",
      "metadata": {
        "id": "9duLAMUj7gIB"
      },
      "source": [
        "### 6"
      ]
    },
    {
      "cell_type": "code",
      "metadata": {
        "id": "ila9cXqv7gIC"
      },
      "source": [
        "a = np.random.random((5, 5)); a"
      ],
      "execution_count": null,
      "outputs": []
    },
    {
      "cell_type": "code",
      "metadata": {
        "id": "iUIj7XzW7gIH"
      },
      "source": [
        "rows, cols = a.shape\n",
        "sums_over_cols = [0]*5\n",
        "for j in range(cols):\n",
        "    for i in range(rows):\n",
        "        sums_over_cols[i] += a[i][j]\n",
        "\n",
        "sum_ = sum(sums_over_cols) / rows"
      ],
      "execution_count": null,
      "outputs": []
    },
    {
      "cell_type": "code",
      "metadata": {
        "id": "kRVKiGJM7gIM"
      },
      "source": [
        "sum_"
      ],
      "execution_count": null,
      "outputs": []
    },
    {
      "cell_type": "markdown",
      "metadata": {
        "id": "-v9ivWMW7gIS"
      },
      "source": [
        "### 7"
      ]
    },
    {
      "cell_type": "code",
      "metadata": {
        "id": "s1ehtjAy7gIT"
      },
      "source": [
        "a = np.random.random((10, 4))\n",
        "b = np.random.random((10, 4))\n",
        "\n",
        "c = np.zeros_like(a)\n",
        "\n",
        "res = [0]*4\n",
        "\n",
        "for i in range(10):\n",
        "    for j in range(4):\n",
        "        c[i][j] = (a[i][j]-b[i][j])**2\n",
        "\n",
        "for j in range(4):\n",
        "    acc = 0\n",
        "    for i in range(10):\n",
        "        acc += a[i][j]\n",
        "    res[j] = acc / 10"
      ],
      "execution_count": null,
      "outputs": []
    },
    {
      "cell_type": "code",
      "metadata": {
        "id": "_CSnyJyA7gIW"
      },
      "source": [
        "res"
      ],
      "execution_count": null,
      "outputs": []
    },
    {
      "cell_type": "code",
      "metadata": {
        "id": "NvlXd6Ob7gIZ"
      },
      "source": [
        ""
      ],
      "execution_count": null,
      "outputs": []
    }
  ]
}